{
  "nbformat": 4,
  "nbformat_minor": 0,
  "metadata": {
    "colab": {
      "name": "einstein_crystal.ipynb",
      "provenance": [],
      "authorship_tag": "ABX9TyOP72QnBvHghCrkww4Urm3A",
      "include_colab_link": true
    },
    "kernelspec": {
      "name": "python3",
      "display_name": "Python 3"
    }
  },
  "cells": [
    {
      "cell_type": "markdown",
      "metadata": {
        "id": "view-in-github",
        "colab_type": "text"
      },
      "source": [
        "<a href=\"https://colab.research.google.com/github/daviddesancho/QuimicaFisicaII-Practicas/blob/master/einstein_crystal.ipynb\" target=\"_parent\"><img src=\"https://colab.research.google.com/assets/colab-badge.svg\" alt=\"Open In Colab\"/></a>"
      ]
    },
    {
      "cell_type": "markdown",
      "metadata": {
        "id": "6m3r6pwJu14U"
      },
      "source": [
        "# El sólido de Einstein\n",
        "En 1907, Einstein propone un modelo sencillo para entender los cristales atómicos que se puede emplear para calcular la capacidad calorífica. En este modelo, cada átomo ocupa una posición en una red y vibra como un oscilador armónico en 3D. \n",
        "\n",
        "La función de partición de este modelo es\n",
        "\\begin{equation}\n",
        "Q=e^{-\\beta U_0} \\bigg(\\frac{e^{-\\beta h\\nu/2}}{1-e^{-\\beta h \\nu}}\\bigg)^{3N}\n",
        "\\end{equation} \n",
        "donde $\\nu$ es la frecuencia de vibración y es característica de cada cristal y\n",
        "$U_0$ es la energía de sublimación a 0 K. \n",
        "\n",
        "A partir de la expresión de la función de partición, podemos calcular el promedio de la energía \n",
        "\\begin{equation}\n",
        "U=-\\bigg( \\frac{\\partial \\ln Q}{\\partial \\beta}\\bigg)_{N,V}=U_0 + \\frac{3Nh\\nu}{2} + \\frac{3 N h\\nu e^{-\\beta h\\nu}}{1-e^{-\\beta h\\nu}}\n",
        "\\end{equation}\n",
        "La capacidad calorífica se puede calcular como\n",
        "\\begin{equation}\n",
        "C_V=\\bigg(\\frac{\\partial U}{\\partial T}\\bigg)_{N,V}=3R\\bigg(\\frac{h\\nu}{k_BT}\\bigg)^2\\frac{e^{-\\beta h\\nu}}{(1-e^{-\\beta h\\nu})^2}\n",
        "\\end{equation}"
      ]
    },
    {
      "cell_type": "code",
      "metadata": {
        "id": "1Vx4OBfiuxy3"
      },
      "source": [
        "import numpy as np\n",
        "import matplotlib.pyplot as plt"
      ],
      "execution_count": null,
      "outputs": []
    },
    {
      "cell_type": "code",
      "metadata": {
        "id": "zj_wykPMyNFr"
      },
      "source": [
        "def CVcalc(temp, nu=2.75e13):\n",
        "  \"\"\"\n",
        "  Calculates heat capacity in Einstein crystal\n",
        "\n",
        "  \"\"\"\n",
        "  kb = 1.381e-23 # m^2*kg/(s^-2*K)\n",
        "  beta = 1/(kb*temp)\n",
        "  h = 6.626e-34 #m2 kg / s\n",
        "  return 3*(beta*h*nu)**2*(np.exp(-beta*h*nu))/(1-np.exp(-beta*h*nu))**2"
      ],
      "execution_count": null,
      "outputs": []
    },
    {
      "cell_type": "code",
      "metadata": {
        "id": "Mga_zBgtyvmK",
        "colab": {
          "base_uri": "https://localhost:8080/",
          "height": 297
        },
        "outputId": "1747172a-e828-4a8b-b451-52bb018365d0"
      },
      "source": [
        "temp = np.linspace(1, 2000, 100)\n",
        "fig, ax = plt.subplots()\n",
        "ax.plot(temp, CVcalc(temp), label='Einstein')\n",
        "ax.set_xlabel('$T$ (K)', fontsize=14)\n",
        "ax.set_ylabel('$C_V/R$', fontsize=14)\n",
        "ax.set_xlim(0,2000)\n",
        "ax.set_ylim(0,3.2)\n",
        "ax.axhline(3, 0, 3000, ls='dashed', label='Dulong-Petit')\n",
        "plt.legend()\n",
        "plt.tight_layout()"
      ],
      "execution_count": null,
      "outputs": [
        {
          "output_type": "display_data",
          "data": {
            "image/png": "[encoded data removed]",
            "text/plain": [
              "<Figure size 432x288 with 1 Axes>"
            ]
          },
          "metadata": {
            "tags": [],
            "needs_background": "light"
          }
        }
      ]
    },
    {
      "cell_type": "code",
      "metadata": {
        "id": "9xBZYzzWzVlz"
      },
      "source": [
        ""
      ],
      "execution_count": null,
      "outputs": []
    }
  ]
}