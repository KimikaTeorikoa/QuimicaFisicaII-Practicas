{
  "nbformat": 4,
  "nbformat_minor": 0,
  "metadata": {
    "colab": {
      "name": "ising.ipynb",
      "provenance": [],
      "authorship_tag": "ABX9TyO+hEFm83tlKPKWAd8OcLVb",
      "include_colab_link": true
    },
    "kernelspec": {
      "name": "python3",
      "display_name": "Python 3"
    }
  },
  "cells": [
    {
      "cell_type": "markdown",
      "metadata": {
        "id": "view-in-github",
        "colab_type": "text"
      },
      "source": [
        "<a href=\"https://colab.research.google.com/github/daviddesancho/QuimicaFisicaII-Practicas/blob/master/ising.ipynb\" target=\"_parent\"><img src=\"https://colab.research.google.com/assets/colab-badge.svg\" alt=\"Open In Colab\"/></a>"
      ]
    },
    {
      "cell_type": "markdown",
      "metadata": {
        "id": "OzN9qYSh-PXW"
      },
      "source": [
        "# El modelo de Ising\n",
        "El modelo de Ising es un modelo de magnetización. El hamiltoniano se puede escribir como \n",
        "\\begin{equation}\n",
        "\\hat{H}=-J\\sum_{ij}\\sigma_i\\sigma_j + H\\sum_i \\sigma_i\n",
        "\\end{equation}\n",
        "donde $J$ es la fortaleza de las interacciones entre spines, $ij$ son los pares de spines vecinos y los spines pueden adoptar los valores $S_k=\\pm 1$. A temperaturas inferiores a la temperatura crítica $T_c$, el sistema está magnetizado; a temperaturas superiores el sistema es paramagnético.\n",
        "\n",
        "En este \"notebook\" realizamos una simulación de Monte Carlo usando el algoritmo de Metrópolis de un modelo de Ising en 2D."
      ]
    },
    {
      "cell_type": "code",
      "metadata": {
        "id": "7443VXQ4-mnV"
      },
      "source": [
        "# Simulating the Ising model\n",
        "# Code by: https://rajeshrinet.github.io/\n",
        "from __future__ import division\n",
        "import numpy as np\n",
        "from numpy.random import rand\n",
        "import matplotlib.pyplot as plt\n",
        "\n",
        "class Ising():\n",
        "    ''' Simulating the Ising model ''' \n",
        "    ## monte carlo moves\n",
        "\n",
        "    def __init__(self, N=20):\n",
        "      '''\n",
        "      Parameters\n",
        "      ----------\n",
        "      N : int\n",
        "        Size of the lattice\n",
        "      \n",
        "      '''\n",
        "      self.N = N\n",
        "      self.config = 2*np.random.randint(2, size=(N,N)) - 1\n",
        "      self.configPlot(0)\n",
        "\n",
        "    def mcmove(self, beta):\n",
        "        ''' Executes the MC moves using the Metropolis algorithm\n",
        "        \n",
        "        Parameters\n",
        "        ----------\n",
        "        beta : float\n",
        "          Inverse temperature\n",
        "\n",
        "        '''\n",
        "        N = self.N\n",
        "        for i in range(N):\n",
        "          for j in range(N):            \n",
        "            a = np.random.randint(0, N)\n",
        "            b = np.random.randint(0, N)\n",
        "            s =  self.config[a, b]\n",
        "            nb = self.config[(a+1)%N,b] + self.config[a,(b+1)%N] + \\\n",
        "                        self.config[(a-1)%N,b] + self.config[a,(b-1)%N]\n",
        "            cost = 2*s*nb\n",
        "            if cost < 0:\t\n",
        "                s *= -1\n",
        "            elif rand() < np.exp(-cost*beta):\n",
        "                s *= -1\n",
        "            self.config[a, b] = s\n",
        "    \n",
        "    def simulate(self, temp=2.3, mcsteps=10, fwrite=10):   \n",
        "        ''' Simulates the Ising model\n",
        "        \n",
        "        Parameters\n",
        "        ----------\n",
        "        temp : float\n",
        "          Temperature\n",
        "        mcsteps : int\n",
        "          Number of MC steps\n",
        "        fwrite : int\n",
        "          Frequency of writing\n",
        "        '''\n",
        "        self.temp = temp\n",
        "        for i in range(1, mcsteps+1):\n",
        "            self.mcmove(1.0/temp)\n",
        "            if (i%fwrite) == 0:       \n",
        "              self.configPlot(i);                 \n",
        "                    \n",
        "    def configPlot(self, i):\n",
        "        ''' Plots the lattice configuration \n",
        "        \n",
        "        Parameters\n",
        "        ----------\n",
        "        i : int\n",
        "          MC step\n",
        "        '''\n",
        "        fig, ax =  plt.subplots(figsize=(4,4))  \n",
        "        plt.setp(ax.get_yticklabels(), visible=False)\n",
        "        plt.setp(ax.get_xticklabels(), visible=False)      \n",
        "        im = ax.imshow(self.config, cmap=plt.cm.viridis);\n",
        "        ax.set_title('MC step=%d'%(i))\n",
        "        plt.tight_layout()    "
      ],
      "execution_count": null,
      "outputs": []
    },
    {
      "cell_type": "code",
      "metadata": {
        "id": "Fnjyd0J3-n3e",
        "colab": {
          "base_uri": "https://localhost:8080/",
          "height": 297
        },
        "outputId": "ce640fc5-992b-45cb-a440-64448586eba5"
      },
      "source": [
        "rm = Ising(N=32)"
      ],
      "execution_count": null,
      "outputs": [
        {
          "output_type": "display_data",
          "data": {
            "image/png": "[encoded data removed]",
            "text/plain": [
              "<Figure size 288x288 with 1 Axes>"
            ]
          },
          "metadata": {
            "tags": []
          }
        }
      ]
    },
    {
      "cell_type": "code",
      "metadata": {
        "id": "Jv9O66HI-pnq",
        "colab": {
          "base_uri": "https://localhost:8080/",
          "height": 1000
        },
        "outputId": "22d84bdb-3261-47ef-f612-aa080d7060a3"
      },
      "source": [
        "rm.simulate(temp=10., mcsteps=10, fwrite=1)"
      ],
      "execution_count": null,
      "outputs": [
        {
          "output_type": "display_data",
          "data": {
            "image/png": "[encoded data removed]",
            "text/plain": [
              "<Figure size 288x288 with 1 Axes>"
            ]
          },
          "metadata": {
            "tags": []
          }
        },
        {
          "output_type": "display_data",
          "data": {
            "image/png": "[encoded data removed]",
            "text/plain": [
              "<Figure size 288x288 with 1 Axes>"
            ]
          },
          "metadata": {
            "tags": []
          }
        },
        {
          "output_type": "display_data",
          "data": {
            "image/png": "[encoded data removed]",
            "text/plain": [
              "<Figure size 288x288 with 1 Axes>"
            ]
          },
          "metadata": {
            "tags": []
          }
        },
        {
          "output_type": "display_data",
          "data": {
            "image/png": "[encoded data removed]",
            "text/plain": [
              "<Figure size 288x288 with 1 Axes>"
            ]
          },
          "metadata": {
            "tags": []
          }
        },
        {
          "output_type": "display_data",
          "data": {
            "image/png": "[encoded data removed]",
            "text/plain": [
              "<Figure size 288x288 with 1 Axes>"
            ]
          },
          "metadata": {
            "tags": []
          }
        },
        {
          "output_type": "display_data",
          "data": {
            "image/png": "[encoded data removed]",
            "text/plain": [
              "<Figure size 288x288 with 1 Axes>"
            ]
          },
          "metadata": {
            "tags": []
          }
        },
        {
          "output_type": "display_data",
          "data": {
            "image/png": "[encoded data removed]",
            "text/plain": [
              "<Figure size 288x288 with 1 Axes>"
            ]
          },
          "metadata": {
            "tags": []
          }
        },
        {
          "output_type": "display_data",
          "data": {
            "image/png": "[encoded data removed]",
            "text/plain": [
              "<Figure size 288x288 with 1 Axes>"
            ]
          },
          "metadata": {
            "tags": []
          }
        },
        {
          "output_type": "display_data",
          "data": {
            "image/png": "[encoded data removed]",
            "text/plain": [
              "<Figure size 288x288 with 1 Axes>"
            ]
          },
          "metadata": {
            "tags": []
          }
        },
        {
          "output_type": "display_data",
          "data": {
            "image/png": "[encoded data removed]",
            "text/plain": [
              "<Figure size 288x288 with 1 Axes>"
            ]
          },
          "metadata": {
            "tags": []
          }
        }
      ]
    },
    {
      "cell_type": "code",
      "metadata": {
        "id": "kUBsPEMl6cJU"
      },
      "source": [
        ""
      ],
      "execution_count": null,
      "outputs": []
    }
  ]
}