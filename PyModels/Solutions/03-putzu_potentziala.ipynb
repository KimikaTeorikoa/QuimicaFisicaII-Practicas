{
 "cells": [
  {
   "cell_type": "code",
   "execution_count": 2,
   "metadata": {},
   "outputs": [],
   "source": [
    "import numpy as np\n",
    "import scipy.linalg as spla\n",
    "import matplotlib as mpl\n",
    "import matplotlib.pyplot as plt"
   ]
  },
  {
   "cell_type": "markdown",
   "metadata": {},
   "source": [
    "# Putzu potentziala\n",
    "\n"
   ]
  },
  {
   "cell_type": "markdown",
   "metadata": {},
   "source": [
    "Hirugarren praktika honetan putzu potentziala deritzogun potentziala aztertu dugu. Sistema honetan partikula ondoko potentzialaren menpe dago: $V(x)=-D$ baldin eta $-A<x<A$."
   ]
  },
  {
   "cell_type": "markdown",
   "metadata": {},
   "source": [
    "Unitate atomikoak eta problemaren ezaugarriak zehaztu:"
   ]
  },
  {
   "cell_type": "code",
   "execution_count": 3,
   "metadata": {},
   "outputs": [],
   "source": [
    "# atomic units\n",
    "hbar = 1.0\n",
    "m = 1.0\n",
    "# set precision of numerical approximation\n",
    "steps = 2000"
   ]
  },
  {
   "cell_type": "markdown",
   "metadata": {},
   "source": [
    "Ondoren  putzuaren luzera (2*W) eta altuera (D) zehaztu:"
   ]
  },
  {
   "cell_type": "code",
   "execution_count": 4,
   "metadata": {},
   "outputs": [],
   "source": [
    "D = 100.0\n",
    "A = 1.0\n",
    "W = A / 2.0"
   ]
  },
  {
   "cell_type": "code",
   "execution_count": 5,
   "metadata": {},
   "outputs": [],
   "source": [
    "# create x-vector from -A to A\n",
    "xvec = np.linspace(-A, A, steps)\n",
    "# get step size\n",
    "h = xvec[1] - xvec[0]"
   ]
  },
  {
   "cell_type": "markdown",
   "metadata": {},
   "source": [
    "Putzu potentziala Hamiltondarrean sartu beharra dago, x balio posible guztietarako definitu behar dugularik:\n",
    "\\begin{equation}\n",
    "    \\hat{H} = -\\frac{\\hbar}{2m^2}\\nabla^2 + V(x),\\hspace{0.5cm}V(x)=\\begin{Bmatrix} -D & if\\hspace{0.5cm}-A<x<A \\\\ 0 & otherwise \\end{Bmatrix}\n",
    "\\end{equation}\n",
    "Hasteko, potentziala kalkulatzen dugu:"
   ]
  },
  {
   "cell_type": "code",
   "execution_count": 6,
   "metadata": {},
   "outputs": [],
   "source": [
    "def well_potential(W, x, D):\n",
    "    pot = -D*(np.sign(x+W) - np.sign(x-W))\n",
    "    return pot\n",
    "\n",
    "U = well_potential(W, xvec, D)"
   ]
  },
  {
   "cell_type": "markdown",
   "metadata": {},
   "source": [
    "Ondoren, Laplaziarra matrize baten moduan idatzi 'diferentzia finituak' delako metodoaz baliatuz:\n",
    "\n",
    "\\begin{equation}\n",
    "f''(x)\\simeq \\frac{f(x+h) - 2f(x) + f(x-h)}{h^2}\n",
    "\\end{equation}"
   ]
  },
  {
   "cell_type": "code",
   "execution_count": 7,
   "metadata": {},
   "outputs": [],
   "source": [
    "# create Laplacian via 3 point finite-difference method\n",
    "Laplacian = (-2.0*np.diag(np.ones(steps)) + \\\n",
    "             np.diag(np.ones(steps-1),1) + \\\n",
    "             np.diag(np.ones(steps-1),-1))/(float)(h**2)"
   ]
  },
  {
   "cell_type": "code",
   "execution_count": 8,
   "metadata": {},
   "outputs": [],
   "source": [
    "# create the Hamiltonian\n",
    "Hamiltonian = np.zeros((steps,steps))\n",
    "[i,j] = np.indices(Hamiltonian.shape)\n",
    "Hamiltonian[i==j] = U\n",
    "Hamiltonian += (-0.5)*((hbar**2)/m)*Laplacian"
   ]
  },
  {
   "cell_type": "markdown",
   "metadata": {},
   "source": [
    "Bektore (*eigenvectors*) eta balore (*eigenvalues*) propiak lortzeko Scipy-ren `eigh` funtzioa erabili:"
   ]
  },
  {
   "cell_type": "code",
   "execution_count": 9,
   "metadata": {},
   "outputs": [],
   "source": [
    "def diagonalize_hamiltonian(Hamiltonian):\n",
    "    return spla.eigh(Hamiltonian)"
   ]
  },
  {
   "cell_type": "code",
   "execution_count": 10,
   "metadata": {},
   "outputs": [],
   "source": [
    "# diagonalize the Hamiltonian yielding the wavefunctions and energies\n",
    "E, V = diagonalize_hamiltonian(Hamiltonian)"
   ]
  },
  {
   "cell_type": "markdown",
   "metadata": {},
   "source": [
    "Dagoeneko metodo guztiak ditugu, beraz numerikoki lortutako emaitzak aztertuko ditugu:"
   ]
  },
  {
   "cell_type": "code",
   "execution_count": 11,
   "metadata": {},
   "outputs": [],
   "source": [
    "# number of energy levels to inspect\n",
    "n = 5"
   ]
  },
  {
   "cell_type": "code",
   "execution_count": 12,
   "metadata": {},
   "outputs": [
    {
     "name": "stdout",
     "output_type": "stream",
     "text": [
      " lowest bound state energies:\n",
      "E(1) = -195.93\n",
      "E(2) = -183.74\n",
      "E(3) = -163.55\n",
      "E(4) = -135.55\n",
      "E(5) = -100.15\n"
     ]
    }
   ],
   "source": [
    "print (\" lowest bound state energies:\")\n",
    "for i in range(n):\n",
    "    print ('E(%g) = %.2f'%(i+1,E[i]))"
   ]
  },
  {
   "cell_type": "code",
   "execution_count": 13,
   "metadata": {},
   "outputs": [
    {
     "data": {
      "text/plain": [
       "Text(0,0.5,'Energy / (a.u.)')"
      ]
     },
     "execution_count": 13,
     "metadata": {},
     "output_type": "execute_result"
    },
    {
     "data": {
      "image/png": "[encoded data removed]",
      "text/plain": [
       "<Figure size 432x576 with 1 Axes>"
      ]
     },
     "metadata": {
      "needs_background": "light"
     },
     "output_type": "display_data"
    }
   ],
   "source": [
    "fig, ax = plt.subplots(figsize=(6,8))\n",
    "for i, v in enumerate(V.transpose()[:n]):\n",
    "    #V_new, ScaleFactor = infinite_well_plot_scaling(E,V,xvec,W)\n",
    "    color=mpl.cm.jet_r((i)/(float)(n-1),1)\n",
    "    ax.plot(xvec, 100*v + E[i], c=color)\n",
    "    ax.axhline(E[i], c=color, ls='--')\n",
    "ax.plot(xvec, U, c='gray', lw=5)\n",
    "ax.set_xlim(xvec[0], xvec[-1])\n",
    "#x.set_ylim(-E[0], E[n])\n",
    "ax.set_xlabel('L', fontsize=14)\n",
    "# set y label\n",
    "ax.set_ylabel('Energy / (a.u.)', fontsize=14)"
   ]
  },
  {
   "cell_type": "markdown",
   "metadata": {},
   "source": [
    "1. Briefly explain how this case differs from the previous cases.\n",
    "2. How many bound energy levels are capable of existing in the finite potential energy\n",
    "well if force constant = 0.6 and D = 10 a.u.? Include a plot of your results.\n",
    "3. Are the wavefunctions permitted to exist outside the harmonic potential energy well?\n",
    "If so, what is this phenomenon called? Provide a brief description of the phenomenon.\n",
    "4. When W = 0.8 a.u. and D = 6 a.u., what is the energy of the 5th bound wavefunction? Include a plot of your results.\n",
    "5. Try two additional sets of inputs for case 5 and include the plots in your write-up. Be sure to explain what variable(s) was/were changed and the significance they had on the results.\n",
    "6. For the 2 additional sets of inputs, also include a plot of the probability density for each. Provide an explanation of how this probability density differs from the plots in question #5 above."
   ]
  },
  {
   "cell_type": "markdown",
   "metadata": {},
   "source": []
  }
 ],
 "metadata": {
  "kernelspec": {
   "display_name": "Python 2",
   "language": "python",
   "name": "python2"
  },
  "language_info": {
   "codemirror_mode": {
    "name": "ipython",
    "version": 2
   },
   "file_extension": ".py",
   "mimetype": "text/x-python",
   "name": "python",
   "nbconvert_exporter": "python",
   "pygments_lexer": "ipython2",
   "version": "2.7.10"
  }
 },
 "nbformat": 4,
 "nbformat_minor": 2
}
