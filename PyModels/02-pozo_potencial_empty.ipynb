{
 "cells": [
  {
   "cell_type": "code",
   "execution_count": null,
   "metadata": {},
   "outputs": [],
   "source": []
  },
  {
   "cell_type": "markdown",
   "metadata": {},
   "source": [
    "# Pozo potencial\n"
   ]
  },
  {
   "cell_type": "markdown",
   "metadata": {},
   "source": [
    "Nuestra segunda práctica se va a centrar en otro de los sistemas modelo   que podemos resolver analíticamente, el pozo potencial. En este sistema la partícula objeto de estudio se encuentra sometida a un potencial $V(x)=-D$ si y sólo si $-A<x<A$. "
   ]
  },
  {
   "cell_type": "markdown",
   "metadata": {},
   "source": [
    "Empezamos como en el caso anterior con una serie de definiciones"
   ]
  },
  {
   "cell_type": "code",
   "execution_count": null,
   "metadata": {},
   "outputs": [],
   "source": [
    "# atomic units\n",
    "\n",
    "# set precision of numerical approximation\n"
   ]
  },
  {
   "cell_type": "markdown",
   "metadata": {},
   "source": [
    "A continuación definimos la profundidad de nuestro pozo de potenciail y los límites en el eje $x$ para nuestro cálculo"
   ]
  },
  {
   "cell_type": "code",
   "execution_count": null,
   "metadata": {},
   "outputs": [],
   "source": []
  },
  {
   "cell_type": "code",
   "execution_count": null,
   "metadata": {},
   "outputs": [],
   "source": [
    "# create x-vector from -A to A\n",
    "\n",
    "# get step size\n"
   ]
  },
  {
   "cell_type": "markdown",
   "metadata": {},
   "source": [
    "En el pozo potencial, dado que $V$ es distinto de cero, el hamiltoniano tiene términos tanto de energía cinética como de energía potencial\n",
    "\\begin{equation}\n",
    "    \\hat{H} = -\\frac{\\hbar}{2m^2}\\nabla^2 + V(x),\\hspace{0.5cm}V(x)=\\begin{Bmatrix} -D & si\\hspace{0.5cm}-A<x<A \\\\ 0 & \\mathrm{en~ cualquier~ otro~ caso} \\end{Bmatrix}\n",
    "\\end{equation}\n",
    "En primer lugar calculamos el potencial"
   ]
  },
  {
   "cell_type": "code",
   "execution_count": null,
   "metadata": {},
   "outputs": [],
   "source": [
    "\n"
   ]
  },
  {
   "cell_type": "markdown",
   "metadata": {},
   "source": [
    "A continuación calculamos una representación matricial de la Laplaciana usando el método de las diferencias finitas:\n",
    "\n",
    "\\begin{equation}\n",
    "f''(x)\\simeq \\frac{f(x+h) - 2f(x) + f(x-h)}{h^2}\n",
    "\\end{equation}"
   ]
  },
  {
   "cell_type": "code",
   "execution_count": null,
   "metadata": {},
   "outputs": [],
   "source": [
    "# create Laplacian via 3 point finite-difference method\n",
    "\n"
   ]
  },
  {
   "cell_type": "code",
   "execution_count": null,
   "metadata": {},
   "outputs": [],
   "source": [
    "# create the Hamiltonian\n",
    "\n"
   ]
  },
  {
   "cell_type": "markdown",
   "metadata": {},
   "source": [
    "Para obtener las funciones propias (*eigenvectors*) y las energías (*eigenvalues*) usamos una función `eigh` de Scipy."
   ]
  },
  {
   "cell_type": "code",
   "execution_count": null,
   "metadata": {},
   "outputs": [],
   "source": [
    "\n"
   ]
  },
  {
   "cell_type": "code",
   "execution_count": null,
   "metadata": {},
   "outputs": [],
   "source": [
    "# diagonalize the Hamiltonian yielding the wavefunctions and energies\n",
    "\n"
   ]
  },
  {
   "cell_type": "markdown",
   "metadata": {},
   "source": [
    "Ahora podemos inspeccionar los resultados obtenidos numéricamente "
   ]
  },
  {
   "cell_type": "code",
   "execution_count": null,
   "metadata": {},
   "outputs": [],
   "source": [
    "# number of energy levels to inspect\n",
    "\n"
   ]
  },
  {
   "cell_type": "code",
   "execution_count": null,
   "metadata": {},
   "outputs": [],
   "source": [
    "\n"
   ]
  },
  {
   "cell_type": "code",
   "execution_count": null,
   "metadata": {},
   "outputs": [],
   "source": []
  },
  {
   "cell_type": "code",
   "execution_count": null,
   "metadata": {},
   "outputs": [],
   "source": [
    "\n"
   ]
  },
  {
   "cell_type": "code",
   "execution_count": null,
   "metadata": {},
   "outputs": [],
   "source": []
  },
  {
   "cell_type": "markdown",
   "metadata": {},
   "source": [
    "### Preguntas\n",
    "1. Explica brevemente cómo difiere este modelo del que hemos visto anteriormente.\n",
    "2. ¿Puede ocupar el sistema estados fuera de las paredes del potencial?\n",
    "3. Varía la profundidad del potencial y explica los resultados.\n",
    "4. Calcula la densidad de probabilidad a partir de la función de onda."
   ]
  },
  {
   "cell_type": "code",
   "execution_count": null,
   "metadata": {},
   "outputs": [],
   "source": []
  }
 ],
 "metadata": {
  "kernelspec": {
   "display_name": "Python 3",
   "language": "python",
   "name": "python3"
  },
  "language_info": {
   "codemirror_mode": {
    "name": "ipython",
    "version": 3
   },
   "file_extension": ".py",
   "mimetype": "text/x-python",
   "name": "python",
   "nbconvert_exporter": "python",
   "pygments_lexer": "ipython3",
   "version": "3.7.3"
  }
 },
 "nbformat": 4,
 "nbformat_minor": 2
}
