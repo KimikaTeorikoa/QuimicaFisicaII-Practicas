{
 "cells": [
  {
   "cell_type": "code",
   "execution_count": 4,
   "metadata": {},
   "outputs": [],
   "source": [
    "import numpy as np\n",
    "import scipy.linalg as spla\n",
    "import matplotlib as mpl\n",
    "import matplotlib.pyplot as plt"
   ]
  },
  {
   "cell_type": "markdown",
   "metadata": {},
   "source": [
    "# Partícula en una caja\n",
    "En primer lugar vamos a trabajar con el más sencillo de los sistemas cuantizados que hemos estudiado en el Tema 3 de la asignatura de Química Física II, la partícula en una caja de longitud $L$. Recordemos que en este sistema tenemos un potencial $V=\\infty$ fuera de los límites de la caja y ningún potencial dentro de ella. La función de onda es $\\psi=0$ entre $-\\infty$ y $0$ y entre $L$ y $\\infty$, mientras que entre $0$ y $L$ está descrita por $\\psi=\\sin(n\\pi x/L)$. "
   ]
  },
  {
   "cell_type": "markdown",
   "metadata": {},
   "source": [
    "Empezamos con una serie de definiciones"
   ]
  },
  {
   "cell_type": "code",
   "execution_count": 5,
   "metadata": {},
   "outputs": [],
   "source": [
    "# atomic units\n",
    "hbar = 1.0\n",
    "m = 1.0\n",
    "# set precision of numerical approximation\n",
    "steps = 2000"
   ]
  },
  {
   "cell_type": "code",
   "execution_count": 6,
   "metadata": {},
   "outputs": [],
   "source": [
    "L = 1.\n",
    "\n",
    "# create x-vector from 0 to L\n",
    "xvec = np.linspace(0, L, steps)\n",
    "\n",
    "# get step size\n",
    "h = xvec[1] - xvec[0]"
   ]
  },
  {
   "cell_type": "markdown",
   "metadata": {},
   "source": [
    "A continuación calculamos una representación matricial de la Laplaciana usando el método de las diferencias finitas:\n",
    "\n",
    "\\begin{equation}\n",
    "f''(x)\\simeq \\frac{f(x+h) - 2f(x) + f(x-h)}{h^2}\n",
    "\\end{equation}"
   ]
  },
  {
   "cell_type": "code",
   "execution_count": 7,
   "metadata": {},
   "outputs": [],
   "source": [
    "# create Laplacian via 3 point finite-difference method\n",
    "Laplacian = (-2.0*np.diag(np.ones(steps)) + \\\n",
    "             np.diag(np.ones(steps-1),1) + \\\n",
    "             np.diag(np.ones(steps-1),-1))/(float)(h**2)"
   ]
  },
  {
   "cell_type": "markdown",
   "metadata": {},
   "source": [
    "Como sabemos, dado que $V=0$, dentro de la caja el hamiltoniano se define como\n",
    "\\begin{equation}\n",
    "    \\hat{H} = -\\frac{\\hbar}{2m^2}\\nabla^2\n",
    "\\end{equation}"
   ]
  },
  {
   "cell_type": "code",
   "execution_count": 8,
   "metadata": {},
   "outputs": [],
   "source": [
    "Hamiltonian = ((-0.5*(hbar**2)/m))*Laplacian"
   ]
  },
  {
   "cell_type": "markdown",
   "metadata": {},
   "source": [
    "Para obtener las funciones propias (*eigenvectors*) y las energías (*eigenvalues*) usamos una función `eigh` de Scipy."
   ]
  },
  {
   "cell_type": "code",
   "execution_count": 9,
   "metadata": {},
   "outputs": [],
   "source": [
    "def diagonalize_hamiltonian(Hamiltonian):\n",
    "    return spla.eigh(Hamiltonian)"
   ]
  },
  {
   "cell_type": "code",
   "execution_count": 10,
   "metadata": {},
   "outputs": [],
   "source": [
    "# diagonalize the Hamiltonian yielding the wavefunctions and energies\n",
    "E, V = diagonalize_hamiltonian(Hamiltonian)"
   ]
  },
  {
   "cell_type": "markdown",
   "metadata": {},
   "source": [
    "Ahora que ya hemos desarrollado todos los métodos que hemos desarrollado, podemos inspeccionar los resultados obtenidos numéricamente "
   ]
  },
  {
   "cell_type": "code",
   "execution_count": 11,
   "metadata": {},
   "outputs": [],
   "source": [
    "# number of energy levels to inspect\n",
    "n = 5\n"
   ]
  },
  {
   "cell_type": "code",
   "execution_count": 12,
   "metadata": {
    "scrolled": false
   },
   "outputs": [
    {
     "name": "stdout",
     "output_type": "stream",
     "text": [
      " lowest bound state energies:\n",
      "E(1) = 4.92\n",
      "E(2) = 19.70\n",
      "E(3) = 44.32\n",
      "E(4) = 78.80\n",
      "E(5) = 123.12\n"
     ]
    }
   ],
   "source": [
    "print (\" lowest bound state energies:\")\n",
    "for i in range(n):\n",
    "    print ('E(%g) = %.2f'%(i+1,E[i]))"
   ]
  },
  {
   "cell_type": "code",
   "execution_count": 13,
   "metadata": {},
   "outputs": [
    {
     "data": {
      "text/plain": [
       "Text(0,0.5,'Energy / (a.u.)')"
      ]
     },
     "execution_count": 13,
     "metadata": {},
     "output_type": "execute_result"
    },
    {
     "data": {
      "image/png": "[encoded data removed]",
      "text/plain": [
       "<Figure size 432x576 with 1 Axes>"
      ]
     },
     "metadata": {
      "needs_background": "light"
     },
     "output_type": "display_data"
    }
   ],
   "source": [
    "fig, ax = plt.subplots(figsize=(6,8))\n",
    "for i, v in enumerate(V.transpose()[:n]):\n",
    "    #V_new, ScaleFactor = infinite_well_plot_scaling(E,V,xvec,W)\n",
    "    color=mpl.cm.jet_r((i)/(float)(n-1),1)\n",
    "    ax.plot(xvec, v*2e2+ E[i], c=color)\n",
    "    ax.axhline(E[i], c=color, ls='--')\n",
    "ax.set_xlim(xvec[0], xvec[-1])\n",
    "ax.set_xlabel('L', fontsize=14)\n",
    "# set y label\n",
    "ax.set_ylabel('Energy / (a.u.)', fontsize=14)"
   ]
  },
  {
   "cell_type": "markdown",
   "metadata": {},
   "source": [
    "\n",
    "1. What happens to the energy levels as the width of the potential energy well, W, increases/decreases?\n",
    "2. What happens to the spacing between wavefunctions with increasing energy?\n",
    "3. What is the general rule for the number of nodes of a wavefunction? Does what you observe agree with the general rule?\n",
    "1. Briefly summarize Case 1 of the Schrodinger.py program. Comment specifically on the modifiable input variables.\n",
    "2. When W = 3 a.u., what is the energy value of the 7th bound wavefunction? Include a plot of your results.\n",
    "3. Comment on the accuracy of the 3-point finite-difference method in approximating the energy calculated above.\n",
    "4. Try 2 additional sets of inputs for Case 1 and include the plots in your write-up. Be sure to explain what variable(s) was/were changed and the significance they had on the results.\n",
    "5. For the 2 additional sets of inputs, also include a plot of the probability density for each. Provide an explanation of how this probability density differs from the plots in question #4 above."
   ]
  },
  {
   "cell_type": "markdown",
   "metadata": {},
   "source": []
  },
  {
   "cell_type": "code",
   "execution_count": null,
   "metadata": {},
   "outputs": [],
   "source": []
  }
 ],
 "metadata": {
  "kernelspec": {
   "display_name": "Python 2",
   "language": "python",
   "name": "python2"
  },
  "language_info": {
   "codemirror_mode": {
    "name": "ipython",
    "version": 2
   },
   "file_extension": ".py",
   "mimetype": "text/x-python",
   "name": "python",
   "nbconvert_exporter": "python",
   "pygments_lexer": "ipython2",
   "version": "2.7.16"
  }
 },
 "nbformat": 4,
 "nbformat_minor": 2
}
