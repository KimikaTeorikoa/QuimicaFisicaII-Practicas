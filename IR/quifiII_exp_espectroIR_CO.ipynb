{
 "cells": [
  {
   "cell_type": "markdown",
   "metadata": {},
   "source": [
    "# Analisis del espectro IR de CO"
   ]
  },
  {
   "cell_type": "code",
   "execution_count": 4,
   "metadata": {},
   "outputs": [],
   "source": [
    "import numpy as np\n",
    "import matplotlib.pyplot as plt"
   ]
  },
  {
   "cell_type": "markdown",
   "metadata": {},
   "source": [
    "En primer lugar cargamos los datos correspondientes a los picos del espectro. Leemos valores de intensidad con respecto al número de onda en cm$^{-1}$."
   ]
  },
  {
   "cell_type": "code",
   "execution_count": 5,
   "metadata": {},
   "outputs": [
    {
     "data": {
      "text/plain": [
       "array([[2046.47 ,   36.395],\n",
       "       [2060.45 ,   35.864],\n",
       "       [2064.82 ,   32.65 ],\n",
       "       [2065.81 ,   35.324],\n",
       "       [2068.84 ,   36.26 ],\n",
       "       [2074.2  ,   36.048],\n",
       "       [2077.59 ,   36.054],\n",
       "       [2081.95 ,   35.931],\n",
       "       [2086.3  ,   35.886],\n",
       "       [2087.39 ,   35.854],\n",
       "       [2090.07 ,   34.343],\n",
       "       [2094.86 ,   35.652],\n",
       "       [2099.05 ,   35.549],\n",
       "       [2103.26 ,   35.441],\n",
       "       [2107.41 ,   35.302],\n",
       "       [2111.52 ,   35.257],\n",
       "       [2115.59 ,   35.195],\n",
       "       [2119.67 ,   35.203],\n",
       "       [2123.67 ,   35.237],\n",
       "       [2127.66 ,   35.262],\n",
       "       [2131.6  ,   35.366],\n",
       "       [2136.09 ,   35.091],\n",
       "       [2139.37 ,   35.373],\n",
       "       [2147.14 ,   35.464],\n",
       "       [2150.83 ,   35.283],\n",
       "       [2154.59 ,   35.1  ],\n",
       "       [2158.28 ,   34.899],\n",
       "       [2161.9  ,   34.619],\n",
       "       [2165.57 ,   34.659],\n",
       "       [2169.17 ,   34.563],\n",
       "       [2172.74 ,   34.506],\n",
       "       [2176.27 ,   34.532],\n",
       "       [2179.75 ,   34.495],\n",
       "       [2183.19 ,   34.547],\n",
       "       [2186.65 ,   34.547],\n",
       "       [2190.01 ,   34.634],\n",
       "       [2193.33 ,   34.666],\n",
       "       [2196.64 ,   34.69 ],\n",
       "       [2199.92 ,   34.735],\n",
       "       [2203.13 ,   34.778],\n",
       "       [2206.35 ,   34.792],\n",
       "       [2209.48 ,   34.795]])"
      ]
     },
     "execution_count": 5,
     "metadata": {},
     "output_type": "execute_result"
    }
   ],
   "source": [
    "data = np.loadtxt(\"co_columns.dat\")\n",
    "data"
   ]
  },
  {
   "cell_type": "markdown",
   "metadata": {},
   "source": [
    "A continuación, identificamos el **origen de banda**. Para ello calculamos la diferencia entre picos sucesivos"
   ]
  },
  {
   "cell_type": "code",
   "execution_count": 6,
   "metadata": {},
   "outputs": [
    {
     "data": {
      "image/png": "[encoded data removed]",
      "text/plain": [
       "<Figure size 432x288 with 1 Axes>"
      ]
     },
     "metadata": {
      "needs_background": "light"
     },
     "output_type": "display_data"
    }
   ],
   "source": [
    "fig, ax = plt.subplots() \n",
    "ax.bar(data[:,0], data[:,1], width=1)\n",
    "ax.set_ylim(34, 36.5)\n",
    "# ax.axvline(22,0,10, ls='--', c='k', lw=1)\n",
    "ax.set_xlabel(r'$\\tilde{\\nu}$ (cm$^{-1}$) ', fontsize=14)\n",
    "_ = ax.set_ylabel(r'Intensity ', fontsize=14)"
   ]
  },
  {
   "cell_type": "code",
   "execution_count": 7,
   "metadata": {},
   "outputs": [
    {
     "data": {
      "image/png": "[encoded data removed]",
      "text/plain": [
       "<Figure size 576x144 with 1 Axes>"
      ]
     },
     "metadata": {
      "needs_background": "light"
     },
     "output_type": "display_data"
    }
   ],
   "source": [
    "fig, ax = plt.subplots(figsize=(8,2)) \n",
    "ax.plot([data[i,0] - data[i-1,0] for i in range(1,len(data))])\n",
    "ax.set_ylim(0,10)\n",
    "ax.axvline(22,0,10, ls='--', c='k', lw=1)\n",
    "ax.set_xlabel('Index', fontsize=14)\n",
    "_ = ax.set_ylabel(r'$\\Delta\\tilde{\\nu}$ (cm$^{-1}$) ', fontsize=14)"
   ]
  },
  {
   "cell_type": "code",
   "execution_count": 8,
   "metadata": {},
   "outputs": [
    {
     "data": {
      "image/png": "[encoded data removed]",
      "text/plain": [
       "<Figure size 432x288 with 1 Axes>"
      ]
     },
     "metadata": {
      "needs_background": "light"
     },
     "output_type": "display_data"
    }
   ],
   "source": [
    "fig, ax = plt.subplots() \n",
    "ax.plot(data[:-1,0], [data[i,0] - data[i-1,0] for i in range(1,len(data))], 'o')\n",
    "# ax.set_ylim(0,10)\n",
    "# ax.axvline(22,0,10, ls='--', c='k', lw=1)\n",
    "ax.set_xlabel(r'$\\tilde{\\nu}$ (cm$^{-1}$) ', fontsize=14)\n",
    "_ = ax.set_ylabel(r'$\\Delta\\tilde{\\nu}$ (cm$^{-1}$) ', fontsize=14)"
   ]
  },
  {
   "cell_type": "markdown",
   "metadata": {},
   "source": [
    "Esto significa que a la izquierda del valor señalado, nos encontramos la rama P del espectro ($\\Delta J=-1$) mientras que a la izquierda nos encontramos la rama R ($\\Delta J=+1$)."
   ]
  },
  {
   "cell_type": "code",
   "execution_count": 9,
   "metadata": {},
   "outputs": [
    {
     "name": "stdout",
     "output_type": "stream",
     "text": [
      "Rama P hasta ... [2139.37    35.373]\n",
      "Rama R desde ... [2147.14    35.464]\n"
     ]
    }
   ],
   "source": [
    "Pbranch = np.array([x for x in reversed(data[:23])])\n",
    "print (\"Rama P hasta ...\", Pbranch[0])\n",
    "Rbranch = data[23:]\n",
    "print (\"Rama R desde ...\", Rbranch[0])"
   ]
  },
  {
   "cell_type": "markdown",
   "metadata": {},
   "source": [
    "A continuación, mostramos las ecuaciones correspondientes a las ramas P y R del espectro roto-vibracional\n",
    "\n",
    "$$\n",
    "\\begin{align}\n",
    "\\tilde{\\nu}(P_J)=&\\tilde{\\omega}_e + B_1(J-1)J - B_0J(J+1)= \\tilde{\\omega}_e - (B_1+B_0)J + (B_1-B_0)J^2 \\textrm{, para }J=1,2,...\\\\\n",
    "\\tilde{\\nu}(R_J)=&\\tilde{\\omega}_e + B_1(J+1)(J+2) - B_0J(J+1) = \\\\ &= \\tilde{\\omega}_e + (B_1+B_0)(J+1) - (B_1-B_0)(J+1)^2\\textrm{, para }J= 0, 1,2,...\n",
    "\\end{align}\n",
    "$$"
   ]
  },
  {
   "cell_type": "markdown",
   "metadata": {},
   "source": [
    "### Cálculo de las constantes rotacionales\n",
    "Para obtener las constantes rotacionales $B_0$ y $B_1$ usamos el **método de las diferencias**. \n",
    "\n",
    "En concreto, para obtener $B_1$ usamos diferencias de líneas del espectro que correspondan a transiciones rotacionales desde el mismo nivel inicial, $\\tilde{\\nu}(R_J) - \\tilde{\\nu}(P_J)$. En general el resultado de su resta es:\n",
    "\n",
    "$$\\tilde{\\nu}(R_J)-\\tilde{\\nu}(P_J)=4B_1(J+1/2)$$"
   ]
  },
  {
   "cell_type": "code",
   "execution_count": 10,
   "metadata": {},
   "outputs": [],
   "source": [
    "Jvals = []\n",
    "diff = []\n",
    "for i in range(1,12):\n",
    "    Jvals.append(i)\n",
    "    diff.append(Rbranch[i,0] - Pbranch[i-1,0])"
   ]
  },
  {
   "cell_type": "markdown",
   "metadata": {},
   "source": [
    "Para nuestro *set* de datos podemos representar una recta usando estas diferencias, y la pendiente nos da el resultado correspondiente a $B_1$."
   ]
  },
  {
   "cell_type": "code",
   "execution_count": 11,
   "metadata": {},
   "outputs": [
    {
     "data": {
      "image/png": "[encoded data removed]",
      "text/plain": [
       "<Figure size 432x288 with 1 Axes>"
      ]
     },
     "metadata": {
      "needs_background": "light"
     },
     "output_type": "display_data"
    }
   ],
   "source": [
    "fit = np.polyfit([x+1./2 for x in Jvals], diff, 1)\n",
    "B1 = fit[0]/4\n",
    "fig, ax = plt.subplots()\n",
    "ax.plot([x+1./2 for x in Jvals], diff, 'o', ms=10)\n",
    "ax.plot(np.linspace(0,13,2), np.polyval(fit, np.linspace(0,13,2)))\n",
    "ax.set_xlim(0,12.5)\n",
    "ax.set_ylim(0,100)\n",
    "ax.text(0.1,0.8, r'$m=$%g'%fit[0], transform=ax.transAxes, fontsize=14)\n",
    "ax.text(0.1,0.7, r'$B_1=$%g cm$^{-1}$'%B1, transform=ax.transAxes, fontsize=14)\n",
    "ax.set_xlabel(r'J+$\\frac{1}{2}$', fontsize=14)\n",
    "_ = ax.set_ylabel(r'$\\Delta \\tilde{\\nu}$ (cm$^{-1}$)', fontsize=14)"
   ]
  },
  {
   "cell_type": "markdown",
   "metadata": {},
   "source": [
    "A continuación obtenemos las diferencias para elementos correspondientes a un mismo nivel rotacional final, es decir $\\tilde{\\nu}(R_{J-1})$ y $\\tilde{\\nu}(P_{J+1}$):\n",
    "\n",
    "$$\\tilde{\\nu}(R_{J-1})-\\tilde{\\nu}(P_{J+1})=4B_0(J+1/2)$$\n",
    "\n",
    "Seguimos el mismo procedimiento para obtener esta constante rotacional."
   ]
  },
  {
   "cell_type": "code",
   "execution_count": 12,
   "metadata": {},
   "outputs": [],
   "source": [
    "Jvals = []\n",
    "diff = []\n",
    "for i in range(1,12):\n",
    "    Jvals.append(i)\n",
    "    diff.append(Rbranch[i-1,0] - Pbranch[i,0])"
   ]
  },
  {
   "cell_type": "code",
   "execution_count": 13,
   "metadata": {
    "scrolled": true
   },
   "outputs": [
    {
     "data": {
      "image/png": "[encoded data removed]",
      "text/plain": [
       "<Figure size 432x288 with 1 Axes>"
      ]
     },
     "metadata": {
      "needs_background": "light"
     },
     "output_type": "display_data"
    }
   ],
   "source": [
    "fit = np.polyfit([x + 1./2 for x in Jvals], diff, 1)\n",
    "B0 = fit[0]/4\n",
    "fig, ax = plt.subplots()\n",
    "ax.plot([x+1./2 for x in Jvals], diff, 'o', ms=10)\n",
    "ax.plot(np.linspace(0,13,2), np.polyval(fit, np.linspace(0,13,2)))\n",
    "ax.set_xlim(0,12.5)\n",
    "ax.set_ylim(0,100)\n",
    "ax.text(0.1,0.8, r'$m=$%g'%fit[0], transform=ax.transAxes, fontsize=14)\n",
    "ax.text(0.1,0.7, r'$B_0=$%g cm$^{-1}$'%B0, transform=ax.transAxes, fontsize=14)\n",
    "ax.set_xlabel(r'J+$\\frac{1}{2}$', fontsize=14)\n",
    "_ = ax.set_ylabel(r'$\\Delta \\tilde{\\nu}$ (cm$^{-1}$)', fontsize=14)"
   ]
  },
  {
   "cell_type": "markdown",
   "metadata": {},
   "source": [
    "Ahora que tenemos los valores de las constantes rotacionales $B_0$ y $B_1$, podemos obtener el valor de la constante $\\alpha$ y $B_e$\n",
    "$$\n",
    "B_v=B_e - \\alpha\\big(v+\\frac{1}{2}\\big)\n",
    "$$\n",
    "Podemos formular un sistema de dos ecuaciones con dos incógnitas, que resolvemos para obtener\n",
    "$$\n",
    "\\alpha = B_0-B_1$$$$\n",
    "B_e = B_0 + \\frac{\\alpha}{2}\n",
    "$$"
   ]
  },
  {
   "cell_type": "code",
   "execution_count": 14,
   "metadata": {},
   "outputs": [
    {
     "name": "stdout",
     "output_type": "stream",
     "text": [
      "alpha = 0.0175227 cm^-1\n",
      "Be = 1.93462 cm^-1\n"
     ]
    }
   ],
   "source": [
    "alpha = B0 - B1\n",
    "Be = B0 + alpha*0.5\n",
    "print (\"alpha = %g cm^-1\"%alpha)\n",
    "print (\"Be = %g cm^-1\"%Be)"
   ]
  },
  {
   "cell_type": "markdown",
   "metadata": {},
   "source": [
    "A continuación calculamos el **origen de banda**, $\\tilde{\\nu}_0$, a partir de los valores de $\\tilde{\\nu}(R_0)$ o bien de $\\tilde{\\nu}(P_1)$. Las expresiones que vamos a utilizar son:\n",
    "$$\n",
    "\\tilde{\\nu}_0=\\tilde{\\nu}(R_0) - 2B_1\n",
    "$$\n",
    "$$\n",
    "\\tilde{\\nu}_0=\\tilde{\\nu}(P_1) + 2B_0\n",
    "$$"
   ]
  },
  {
   "cell_type": "code",
   "execution_count": 15,
   "metadata": {},
   "outputs": [
    {
     "name": "stdout",
     "output_type": "stream",
     "text": [
      "2143.19 cm^-1\n",
      "2143.29 cm^-1\n"
     ]
    }
   ],
   "source": [
    "nu0 = Pbranch[0,0] + 2*B1\n",
    "print (\"%g cm^-1\"%nu0)\n",
    "nu0 = Rbranch[0,0] - 2*B0\n",
    "print (\"%g cm^-1\"%nu0)"
   ]
  },
  {
   "cell_type": "markdown",
   "metadata": {},
   "source": [
    "Seguimos con el cálculo de la frecuencia de vibración, $\\omega_e$ y de la **constante de anarmonicidad**, $x_e$. De nuevo, podemos plantear un sistema de ecuaciones\n",
    "$$\n",
    "\\tilde{\\nu}(0\\rightarrow 1)=\\tilde{\\omega}_e - 2\\tilde{\\omega}_ex_e\n",
    "$$\n",
    "$$\n",
    "\\tilde{\\nu}(0\\rightarrow 2)=2\\tilde{\\omega}_e - 6\\tilde{\\omega}_ex_e\n",
    "$$\n",
    "Fácilmente, podemos despejar $\\tilde{\\omega}_e=\\tilde{\\nu}_0 + 2\\tilde{\\omega}_ex_e$, que al ser sustituido en la expresión del primer sobretono resulta en $\\tilde{\\omega}_ex_e=\\tilde{\\nu}_0 - 1/2\\tilde{\\nu}(0\\rightarrow 2) $"
   ]
  },
  {
   "cell_type": "code",
   "execution_count": 16,
   "metadata": {},
   "outputs": [
    {
     "name": "stdout",
     "output_type": "stream",
     "text": [
      "w_e*x_e = 13.2683 cm^-1\n",
      "w_e = 2169.82 cm^-1\n",
      "x_e =  6.115e-03\n"
     ]
    }
   ],
   "source": [
    "nu1 = 4260.04 # cm^-1\n",
    "wexe = nu0 - 0.5*(nu1)\n",
    "print (\"w_e*x_e = %g cm^-1\"%wexe)\n",
    "we = nu0 + 2*wexe \n",
    "print (\"w_e = %g cm^-1\"%we)\n",
    "xe = wexe/we\n",
    "print (\"x_e = %10.3e\"%xe)"
   ]
  },
  {
   "cell_type": "markdown",
   "metadata": {},
   "source": [
    "A continuación, obtenemos el valor para la **constante de fuerza** del enlace, $k$, que derivamos a partir de la expresión\n",
    "$$\n",
    "\\tilde{\\omega}_e=\\frac{1}{2\\pi c}\\sqrt{\\frac{k}{\\mu}}\n",
    "$$\n",
    "Por tanto, la constante se puede obtener a partir de parámetros que nos son conocidos\n",
    "$$\n",
    "k=\\mu \\tilde{\\omega}^2_e4\\pi^2c^2\n",
    "$$\n",
    "donde $\\mu$ es la **masa reducida** que podemos calcular como \n",
    "$$\n",
    "\\mu=\\frac{m_\\mathrm{C}m_\\mathrm{O}}{m_\\mathrm{C}+m_\\mathrm{O}}\\frac{1}{N_\\mathrm{A}}\n",
    "$$\n"
   ]
  },
  {
   "cell_type": "code",
   "execution_count": 17,
   "metadata": {},
   "outputs": [
    {
     "name": "stdout",
     "output_type": "stream",
     "text": [
      "mu = 1.13868e-26 kg\n",
      "k = 1904.82 N/m\n"
     ]
    }
   ],
   "source": [
    "c = 3.0e10 # cm/s\n",
    "mu = 12e-3*16e-3/(12e-3+16e-3)*1/6.022e23 \n",
    "print (\"mu = %g kg\"%mu)\n",
    "k = mu*(we*2.*np.pi*c)**2\n",
    "print (\"k = %g N/m\"%k)"
   ]
  },
  {
   "cell_type": "markdown",
   "metadata": {},
   "source": [
    "A partir del valor del valor de $B_e$ podemos calcular también el **momento de inercia**, $I$,\n",
    "$$\n",
    "I=\\frac{h}{8\\pi^2B_ec}\n",
    "$$"
   ]
  },
  {
   "cell_type": "code",
   "execution_count": 18,
   "metadata": {},
   "outputs": [
    {
     "name": "stdout",
     "output_type": "stream",
     "text": [
      "I = 1.44593e-46 kg*m^2\n"
     ]
    }
   ],
   "source": [
    "h = 6.62607004e-34 # m2*kg/s\n",
    "I = h/(8*np.pi**2*Be*c)\n",
    "print (\"I = %g kg*m^2\"%I)"
   ]
  },
  {
   "cell_type": "markdown",
   "metadata": {},
   "source": [
    "El momento de inercia para una molécula diatómnica se define como $I=\\mu R_{eq}^2$. Despejando la distancia de equilibrio,\n",
    "$$\n",
    "R_{eq} = \\sqrt{\\frac{I}{\\mu}}\n",
    "$$"
   ]
  },
  {
   "cell_type": "code",
   "execution_count": 19,
   "metadata": {},
   "outputs": [
    {
     "name": "stdout",
     "output_type": "stream",
     "text": [
      "Req = 1.12687e-10 m\n"
     ]
    }
   ],
   "source": [
    "Req = np.sqrt(I/mu)\n",
    "print (\"Req = %g m\"%Req)"
   ]
  },
  {
   "cell_type": "markdown",
   "metadata": {},
   "source": [
    "Concluimos calculando la constante de distorsión centrífuga, $D$, a partir de la expresión\n",
    "$$\n",
    "D = \\frac{4B_e^3}{\\tilde{\\omega}_e^2}\n",
    "$$"
   ]
  },
  {
   "cell_type": "code",
   "execution_count": 20,
   "metadata": {},
   "outputs": [
    {
     "name": "stdout",
     "output_type": "stream",
     "text": [
      "D = 6.15178e-06 cm^-1\n"
     ]
    }
   ],
   "source": [
    "D = 4*Be**3/we**2\n",
    "print (\"D = %g cm^-1\"%D)"
   ]
  },
  {
   "cell_type": "markdown",
   "metadata": {},
   "source": [
    "Otro parámetro que podemos calcular es la profundidad del potencial, $D_e=\\omega_e/4x_e$"
   ]
  },
  {
   "cell_type": "code",
   "execution_count": 21,
   "metadata": {},
   "outputs": [
    {
     "name": "stdout",
     "output_type": "stream",
     "text": [
      "D_e = 8.8710e+04 cm^-1\n"
     ]
    }
   ],
   "source": [
    "print (\"D_e = %10.4e cm^-1\"%(we/(4*xe)))"
   ]
  },
  {
   "cell_type": "markdown",
   "metadata": {},
   "source": [
    "Y a partir de este valor podemos obtener la constante de disociación, sumando $D_0=D_e - 1/2\\omega_e$"
   ]
  },
  {
   "cell_type": "code",
   "execution_count": 26,
   "metadata": {},
   "outputs": [
    {
     "name": "stdout",
     "output_type": "stream",
     "text": [
      "D_0 = 8.7626e+04 cm^-1\n"
     ]
    }
   ],
   "source": [
    "print (\"D_0 = %10.4e cm^-1\"%(we/(4*xe) - 0.5*we))"
   ]
  },
  {
   "cell_type": "code",
   "execution_count": 23,
   "metadata": {},
   "outputs": [],
   "source": [
    "Jvals = []\n",
    "diff = []\n",
    "for i in range(2,12):\n",
    "    Jvals.append(i)\n",
    "    diff.append((Rbranch[i-1,0] - Pbranch[i,0])/(i + 1./2))"
   ]
  },
  {
   "cell_type": "code",
   "execution_count": 24,
   "metadata": {},
   "outputs": [
    {
     "data": {
      "image/png": "[encoded data removed]",
      "text/plain": [
       "<Figure size 432x288 with 1 Axes>"
      ]
     },
     "metadata": {
      "needs_background": "light"
     },
     "output_type": "display_data"
    }
   ],
   "source": [
    "xaxis = [(x + 1./2)**2 for x in Jvals]\n",
    "fit = np.polyfit([(x + 1./2)**2 for x in Jvals], diff, 1)\n",
    "D = -fit[0]/8\n",
    "fig, ax = plt.subplots()\n",
    "ax.plot([(x+1./2)**2 for x in Jvals], diff, 'o', ms=10)\n",
    "ax.plot(np.linspace(0,140,2), np.polyval(fit, np.linspace(0,140,2)))\n",
    "#ax.set_xlim(0,12.5)\n",
    "ax.set_ylim(7.679,7.71)\n",
    "ax.text(0.5,0.9, r'$m=$%g'%fit[0], transform=ax.transAxes, fontsize=14)\n",
    "ax.text(0.5,0.8, r'$D=$%g cm$^{-1}$'%D, transform=ax.transAxes, fontsize=14)\n",
    "ax.text(0.5,0.7, r'$B_0=$%g cm$^{-1}$'%((fit[1] + 6*D)), transform=ax.transAxes, fontsize=14)\n",
    "ax.set_xlabel(r'(J+$\\frac{1}{2})^2$', fontsize=14)\n",
    "_ = ax.set_ylabel(r'$\\Delta \\tilde{\\nu}/(J+1/2)$ (cm$^{-1}$)', fontsize=14)"
   ]
  },
  {
   "cell_type": "code",
   "execution_count": null,
   "metadata": {},
   "outputs": [],
   "source": []
  }
 ],
 "metadata": {
  "kernelspec": {
   "display_name": "Python 3",
   "language": "python",
   "name": "python3"
  },
  "language_info": {
   "codemirror_mode": {
    "name": "ipython",
    "version": 3
   },
   "file_extension": ".py",
   "mimetype": "text/x-python",
   "name": "python",
   "nbconvert_exporter": "python",
   "pygments_lexer": "ipython3",
   "version": "3.7.3"
  }
 },
 "nbformat": 4,
 "nbformat_minor": 2
}
